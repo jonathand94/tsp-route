{
 "cells": [
  {
   "cell_type": "code",
   "execution_count": 11,
   "metadata": {},
   "outputs": [
    {
     "name": "stdout",
     "output_type": "stream",
     "text": [
      "Requirement already satisfied: python-google-places==1.4.1 in /Users/changluo/anaconda3/lib/python3.7/site-packages (1.4.1)\n",
      "Requirement already satisfied: six in /Users/changluo/anaconda3/lib/python3.7/site-packages (from python-google-places==1.4.1) (1.12.0)\n",
      "Requirement already satisfied: googlemaps==3.0.2 in /Users/changluo/anaconda3/lib/python3.7/site-packages (3.0.2)\n",
      "Requirement already satisfied: requests<3.0,>=2.11.1 in /Users/changluo/anaconda3/lib/python3.7/site-packages (from googlemaps==3.0.2) (2.21.0)\n",
      "Requirement already satisfied: certifi>=2017.4.17 in /Users/changluo/anaconda3/lib/python3.7/site-packages (from requests<3.0,>=2.11.1->googlemaps==3.0.2) (2019.3.9)\n",
      "Requirement already satisfied: chardet<3.1.0,>=3.0.2 in /Users/changluo/anaconda3/lib/python3.7/site-packages (from requests<3.0,>=2.11.1->googlemaps==3.0.2) (3.0.4)\n",
      "Requirement already satisfied: idna<2.9,>=2.5 in /Users/changluo/anaconda3/lib/python3.7/site-packages (from requests<3.0,>=2.11.1->googlemaps==3.0.2) (2.8)\n",
      "Requirement already satisfied: urllib3<1.25,>=1.21.1 in /Users/changluo/anaconda3/lib/python3.7/site-packages (from requests<3.0,>=2.11.1->googlemaps==3.0.2) (1.24.1)\n",
      "Requirement already satisfied: gmaps==0.8.4 in /Users/changluo/anaconda3/lib/python3.7/site-packages (0.8.4)\n",
      "Requirement already satisfied: traitlets>=4.3.0 in /Users/changluo/anaconda3/lib/python3.7/site-packages (from gmaps==0.8.4) (4.3.2)\n",
      "Requirement already satisfied: ipython>=5.3.0 in /Users/changluo/anaconda3/lib/python3.7/site-packages (from gmaps==0.8.4) (7.4.0)\n",
      "Requirement already satisfied: six in /Users/changluo/anaconda3/lib/python3.7/site-packages (from gmaps==0.8.4) (1.12.0)\n",
      "Requirement already satisfied: geojson>=2.0.0 in /Users/changluo/anaconda3/lib/python3.7/site-packages (from gmaps==0.8.4) (2.4.1)\n",
      "Requirement already satisfied: ipywidgets>=7.0.0 in /Users/changluo/anaconda3/lib/python3.7/site-packages (from gmaps==0.8.4) (7.4.2)\n",
      "Requirement already satisfied: ipython-genutils in /Users/changluo/anaconda3/lib/python3.7/site-packages (from traitlets>=4.3.0->gmaps==0.8.4) (0.2.0)\n",
      "Requirement already satisfied: decorator in /Users/changluo/anaconda3/lib/python3.7/site-packages (from traitlets>=4.3.0->gmaps==0.8.4) (4.4.0)\n",
      "Requirement already satisfied: setuptools>=18.5 in /Users/changluo/anaconda3/lib/python3.7/site-packages (from ipython>=5.3.0->gmaps==0.8.4) (40.8.0)\n",
      "Requirement already satisfied: pygments in /Users/changluo/anaconda3/lib/python3.7/site-packages (from ipython>=5.3.0->gmaps==0.8.4) (2.3.1)\n",
      "Requirement already satisfied: pickleshare in /Users/changluo/anaconda3/lib/python3.7/site-packages (from ipython>=5.3.0->gmaps==0.8.4) (0.7.5)\n",
      "Requirement already satisfied: backcall in /Users/changluo/anaconda3/lib/python3.7/site-packages (from ipython>=5.3.0->gmaps==0.8.4) (0.1.0)\n",
      "Requirement already satisfied: appnope; sys_platform == \"darwin\" in /Users/changluo/anaconda3/lib/python3.7/site-packages (from ipython>=5.3.0->gmaps==0.8.4) (0.1.0)\n",
      "Requirement already satisfied: jedi>=0.10 in /Users/changluo/anaconda3/lib/python3.7/site-packages (from ipython>=5.3.0->gmaps==0.8.4) (0.13.3)\n",
      "Requirement already satisfied: pexpect; sys_platform != \"win32\" in /Users/changluo/anaconda3/lib/python3.7/site-packages (from ipython>=5.3.0->gmaps==0.8.4) (4.6.0)\n",
      "Requirement already satisfied: prompt-toolkit<2.1.0,>=2.0.0 in /Users/changluo/anaconda3/lib/python3.7/site-packages (from ipython>=5.3.0->gmaps==0.8.4) (2.0.9)\n",
      "Requirement already satisfied: widgetsnbextension~=3.4.0 in /Users/changluo/anaconda3/lib/python3.7/site-packages (from ipywidgets>=7.0.0->gmaps==0.8.4) (3.4.2)\n",
      "Requirement already satisfied: nbformat>=4.2.0 in /Users/changluo/anaconda3/lib/python3.7/site-packages (from ipywidgets>=7.0.0->gmaps==0.8.4) (4.4.0)\n",
      "Requirement already satisfied: ipykernel>=4.5.1 in /Users/changluo/anaconda3/lib/python3.7/site-packages (from ipywidgets>=7.0.0->gmaps==0.8.4) (5.1.0)\n",
      "Requirement already satisfied: parso>=0.3.0 in /Users/changluo/anaconda3/lib/python3.7/site-packages (from jedi>=0.10->ipython>=5.3.0->gmaps==0.8.4) (0.3.4)\n",
      "Requirement already satisfied: ptyprocess>=0.5 in /Users/changluo/anaconda3/lib/python3.7/site-packages (from pexpect; sys_platform != \"win32\"->ipython>=5.3.0->gmaps==0.8.4) (0.6.0)\n",
      "Requirement already satisfied: wcwidth in /Users/changluo/anaconda3/lib/python3.7/site-packages (from prompt-toolkit<2.1.0,>=2.0.0->ipython>=5.3.0->gmaps==0.8.4) (0.1.7)\n",
      "Requirement already satisfied: notebook>=4.4.1 in /Users/changluo/anaconda3/lib/python3.7/site-packages (from widgetsnbextension~=3.4.0->ipywidgets>=7.0.0->gmaps==0.8.4) (5.7.8)\n",
      "Requirement already satisfied: jupyter-core in /Users/changluo/anaconda3/lib/python3.7/site-packages (from nbformat>=4.2.0->ipywidgets>=7.0.0->gmaps==0.8.4) (4.4.0)\n",
      "Requirement already satisfied: jsonschema!=2.5.0,>=2.4 in /Users/changluo/anaconda3/lib/python3.7/site-packages (from nbformat>=4.2.0->ipywidgets>=7.0.0->gmaps==0.8.4) (3.0.1)\n",
      "Requirement already satisfied: jupyter-client in /Users/changluo/anaconda3/lib/python3.7/site-packages (from ipykernel>=4.5.1->ipywidgets>=7.0.0->gmaps==0.8.4) (5.2.4)\n",
      "Requirement already satisfied: tornado>=4.2 in /Users/changluo/anaconda3/lib/python3.7/site-packages (from ipykernel>=4.5.1->ipywidgets>=7.0.0->gmaps==0.8.4) (6.0.2)\n",
      "Requirement already satisfied: prometheus-client in /Users/changluo/anaconda3/lib/python3.7/site-packages (from notebook>=4.4.1->widgetsnbextension~=3.4.0->ipywidgets>=7.0.0->gmaps==0.8.4) (0.6.0)\n",
      "Requirement already satisfied: jinja2 in /Users/changluo/anaconda3/lib/python3.7/site-packages (from notebook>=4.4.1->widgetsnbextension~=3.4.0->ipywidgets>=7.0.0->gmaps==0.8.4) (2.10)\n",
      "Requirement already satisfied: pyzmq>=17 in /Users/changluo/anaconda3/lib/python3.7/site-packages (from notebook>=4.4.1->widgetsnbextension~=3.4.0->ipywidgets>=7.0.0->gmaps==0.8.4) (18.0.0)\n",
      "Requirement already satisfied: Send2Trash in /Users/changluo/anaconda3/lib/python3.7/site-packages (from notebook>=4.4.1->widgetsnbextension~=3.4.0->ipywidgets>=7.0.0->gmaps==0.8.4) (1.5.0)\n",
      "Requirement already satisfied: nbconvert in /Users/changluo/anaconda3/lib/python3.7/site-packages (from notebook>=4.4.1->widgetsnbextension~=3.4.0->ipywidgets>=7.0.0->gmaps==0.8.4) (5.4.1)\n",
      "Requirement already satisfied: terminado>=0.8.1 in /Users/changluo/anaconda3/lib/python3.7/site-packages (from notebook>=4.4.1->widgetsnbextension~=3.4.0->ipywidgets>=7.0.0->gmaps==0.8.4) (0.8.1)\n",
      "Requirement already satisfied: attrs>=17.4.0 in /Users/changluo/anaconda3/lib/python3.7/site-packages (from jsonschema!=2.5.0,>=2.4->nbformat>=4.2.0->ipywidgets>=7.0.0->gmaps==0.8.4) (19.1.0)\n",
      "Requirement already satisfied: pyrsistent>=0.14.0 in /Users/changluo/anaconda3/lib/python3.7/site-packages (from jsonschema!=2.5.0,>=2.4->nbformat>=4.2.0->ipywidgets>=7.0.0->gmaps==0.8.4) (0.14.11)\n",
      "Requirement already satisfied: python-dateutil>=2.1 in /Users/changluo/anaconda3/lib/python3.7/site-packages (from jupyter-client->ipykernel>=4.5.1->ipywidgets>=7.0.0->gmaps==0.8.4) (2.8.0)\n",
      "Requirement already satisfied: MarkupSafe>=0.23 in /Users/changluo/anaconda3/lib/python3.7/site-packages (from jinja2->notebook>=4.4.1->widgetsnbextension~=3.4.0->ipywidgets>=7.0.0->gmaps==0.8.4) (1.1.1)\n",
      "Requirement already satisfied: mistune>=0.8.1 in /Users/changluo/anaconda3/lib/python3.7/site-packages (from nbconvert->notebook>=4.4.1->widgetsnbextension~=3.4.0->ipywidgets>=7.0.0->gmaps==0.8.4) (0.8.4)\n",
      "Requirement already satisfied: entrypoints>=0.2.2 in /Users/changluo/anaconda3/lib/python3.7/site-packages (from nbconvert->notebook>=4.4.1->widgetsnbextension~=3.4.0->ipywidgets>=7.0.0->gmaps==0.8.4) (0.3)\n",
      "Requirement already satisfied: bleach in /Users/changluo/anaconda3/lib/python3.7/site-packages (from nbconvert->notebook>=4.4.1->widgetsnbextension~=3.4.0->ipywidgets>=7.0.0->gmaps==0.8.4) (3.1.0)\n",
      "Requirement already satisfied: pandocfilters>=1.4.1 in /Users/changluo/anaconda3/lib/python3.7/site-packages (from nbconvert->notebook>=4.4.1->widgetsnbextension~=3.4.0->ipywidgets>=7.0.0->gmaps==0.8.4) (1.4.2)\n",
      "Requirement already satisfied: testpath in /Users/changluo/anaconda3/lib/python3.7/site-packages (from nbconvert->notebook>=4.4.1->widgetsnbextension~=3.4.0->ipywidgets>=7.0.0->gmaps==0.8.4) (0.4.2)\n",
      "Requirement already satisfied: defusedxml in /Users/changluo/anaconda3/lib/python3.7/site-packages (from nbconvert->notebook>=4.4.1->widgetsnbextension~=3.4.0->ipywidgets>=7.0.0->gmaps==0.8.4) (0.5.0)\n",
      "Requirement already satisfied: webencodings in /Users/changluo/anaconda3/lib/python3.7/site-packages (from bleach->nbconvert->notebook>=4.4.1->widgetsnbextension~=3.4.0->ipywidgets>=7.0.0->gmaps==0.8.4) (0.5.1)\n"
     ]
    },
    {
     "name": "stdout",
     "output_type": "stream",
     "text": [
      "Requirement already up-to-date: ortools in /Users/changluo/.local/lib/python3.7/site-packages (7.3.7083)\r\n",
      "Requirement already satisfied, skipping upgrade: protobuf>=3.9.0 in /Users/changluo/.local/lib/python3.7/site-packages (from ortools) (3.9.1)\r\n",
      "Requirement already satisfied, skipping upgrade: six>=1.10 in /Users/changluo/anaconda3/lib/python3.7/site-packages (from ortools) (1.12.0)\r\n",
      "Requirement already satisfied, skipping upgrade: setuptools in /Users/changluo/anaconda3/lib/python3.7/site-packages (from protobuf>=3.9.0->ortools) (40.8.0)\r\n"
     ]
    }
   ],
   "source": [
    "# isntall flowing packages by pip\n",
    "# if ortools is not installed correctly, try \"python -m pip install --upgrade --user ortools\" in your terminal\n",
    "\n",
    "!pip install python-google-places==1.4.1\n",
    "!pip install googlemaps==3.0.2\n",
    "!pip install gmaps==0.8.4\n",
    "!python -m pip install --upgrade --user ortools"
   ]
  },
  {
   "cell_type": "code",
   "execution_count": 12,
   "metadata": {},
   "outputs": [],
   "source": [
    "# input the places of interest (POI)\n",
    "\n",
    "# YHA London Central Hostel\n",
    "# Coca-Cola London Eye\n",
    "# St. Paul's Cathedral\n",
    "# Leadenhall Market\n",
    "# The National Gallery\n",
    "# Big Ben\n",
    "# Buckingham Palace\n",
    "# Waterloo Station\n",
    "\n",
    "\n",
    "places = 'YHA London Central Hostel', 'Coca-Cola London Eye', 'St. Paul\\'s Cathedral', 'Leadenhall Market', 'The National Gallery' \\\n",
    "          ,'Big Ben', 'Buckingham Palace', 'Waterloo Station'\n",
    "\n",
    "# the region\n",
    "Location='London'\n",
    "\n",
    "# choose a mode\n",
    "Mode = \"walking\"  # \"driving\", \"walking\", \"bicycling\", \"transit\"\n",
    "\n",
    "# get Google API key from following website: \n",
    "# https://developers.google.com/maps/documentation/distance-matrix/start#get-a-key\n",
    "password = \"YOUR_GOOGLE_API_KEY_HERE\"\n"
   ]
  },
  {
   "cell_type": "code",
   "execution_count": 13,
   "metadata": {},
   "outputs": [],
   "source": [
    "# get the location of POI\n",
    "\n",
    "from googleplaces import GooglePlaces\n",
    "import googlemaps\n",
    "\n",
    "\n",
    "class GoogleMaps(object):\n",
    "\n",
    "    def __init__(self, password):\n",
    "\n",
    "        self._GOOGLE_MAPS_KEY = password\n",
    "        self._Google_Places = GooglePlaces(self._GOOGLE_MAPS_KEY)\n",
    "        self._Google_Geocod = googlemaps.Client(key=self._GOOGLE_MAPS_KEY)\n",
    "\n",
    "    def _text_search(self, query, language=None, location=None):\n",
    "        text_query_result = self._Google_Places.text_search(query=query, language=language, location=location)\n",
    "        return text_query_result.places\n",
    "\n",
    "    def _reverse_geocode(self, lat, lng, language=None):\n",
    "        list_reverse_geocode_result = self._Google_Geocod.reverse_geocode((lat, lng), language=language)\n",
    "        return list_reverse_geocode_result\n",
    "\n",
    "    def _return_reverse_geocode_info(self, lat, lng, language=None):\n",
    "        list_reverse_geocode = self._reverse_geocode(lat, lng, language=language)\n",
    "        if list_reverse_geocode:\n",
    "            city = ''\n",
    "            pincode = ''\n",
    "            route = ''\n",
    "            neighborhood = ''\n",
    "            sublocality = ''\n",
    "            administrative_area_level_1 = ''\n",
    "            country = ''\n",
    "            street_number = ''\n",
    "            \n",
    "            formatted_address = list_reverse_geocode[0]['formatted_address']\n",
    "            for address_info in list_reverse_geocode[0]['address_components']:\n",
    "                if 'locality' in address_info['types']:\n",
    "                    city = address_info['long_name']\n",
    "                elif 'postal_code' in address_info['types']:\n",
    "                    pincode = address_info['long_name']\n",
    "                elif 'route' in address_info['types']:\n",
    "                    route = address_info['long_name']\n",
    "                elif 'neighborhood' in address_info['types']:\n",
    "                    neighborhood = address_info['long_name']\n",
    "                elif 'sublocality' in address_info['types']:\n",
    "                    sublocality = address_info['long_name']\n",
    "                elif 'administrative_area_level_1' in address_info['types']:\n",
    "                    administrative_area_level_1 = address_info['long_name']\n",
    "                elif 'country' in address_info['types']:\n",
    "                    country = address_info['long_name']\n",
    "                elif 'street_number' in address_info['types']:\n",
    "                    street_number = address_info['long_name']\n",
    "            return {'city': city, 'pincode': pincode, 'route': route, 'neighborhood': neighborhood,\n",
    "                    'sublocality': sublocality, 'administrative_area_level_1': administrative_area_level_1,\n",
    "                    'country': country, 'formatted_address': formatted_address, 'street_number': street_number}\n",
    "        else:\n",
    "            return None\n",
    "\n",
    "    def get_pincode_city(self, lat, lng, language=None):\n",
    "        reverse_geocode_info = self._return_reverse_geocode_info(lat, lng, language=language)\n",
    "        if reverse_geocode_info:\n",
    "            return {'city': reverse_geocode_info['city'], 'pincode': reverse_geocode_info['pincode']}\n",
    "        else:\n",
    "            return None\n",
    "\n",
    "    def get_address_recommendation(self, query, language=None, location=None):\n",
    "        return_size = 1 # 5\n",
    "        list_return_info = list()\n",
    "        list_places_text_search_result = self._text_search(query=query, language=language, location=location)\n",
    "        \n",
    "        if len(list_places_text_search_result) > return_size:\n",
    "            list_places_text_search_result = list_places_text_search_result[:return_size]\n",
    "        for place in list_places_text_search_result:\n",
    "            result_geocode = self._return_reverse_geocode_info(place.geo_location['lat'], place.geo_location['lng'], language=language)\n",
    "            if result_geocode:\n",
    "                result_geocode['formatted_address'] = '{} {}'.format(place.name, result_geocode['formatted_address'])\n",
    "                result_geocode['place_name'] = place.name\n",
    "                result_geocode['lat'] = '{}'.format(place.geo_location['lat'])\n",
    "                result_geocode['lng'] = '{}'.format(place.geo_location['lng'])\n",
    "                list_return_info.append(result_geocode)\n",
    "        return list_return_info"
   ]
  },
  {
   "cell_type": "code",
   "execution_count": 14,
   "metadata": {},
   "outputs": [
    {
     "name": "stdout",
     "output_type": "stream",
     "text": [
      "YHA London Central Hostel\n",
      "Coca-Cola London Eye\n",
      "St. Paul's Cathedral\n",
      "Leadenhall Market\n",
      "The National Gallery\n",
      "Big Ben\n",
      "Buckingham Palace\n",
      "Waterloo Station\n"
     ]
    },
    {
     "data": {
      "text/plain": [
       "(array([51.5205898, 51.503324 , 51.5138453, 51.5128019, 51.508929 ,\n",
       "        51.5007292, 51.501364 , 51.5031653]),\n",
       " array([-0.1424225, -0.119543 , -0.0983506, -0.0834833, -0.128299 ,\n",
       "        -0.1246254, -0.14189  , -0.1123051]))"
      ]
     },
     "execution_count": 14,
     "metadata": {},
     "output_type": "execute_result"
    }
   ],
   "source": [
    "# get the lat and lng of places\n",
    "\n",
    "import numpy as np\n",
    "import googlemaps\n",
    "import json\n",
    "\n",
    "\n",
    "lat = []\n",
    "lng = []\n",
    "\n",
    "google_maps = GoogleMaps(password)\n",
    "for place in places:\n",
    "    print(place)\n",
    "    result = google_maps.get_address_recommendation(query=place, language='en', location=Location)\n",
    "    lat = np.append(lat, result[0][\"lat\"])\n",
    "    lng = np.append(lng, result[0][\"lng\"])\n",
    "lat = lat.astype(float)\n",
    "lng = lng.astype(float)\n",
    "lat, lng"
   ]
  },
  {
   "cell_type": "code",
   "execution_count": 15,
   "metadata": {},
   "outputs": [
    {
     "data": {
      "text/plain": [
       "array([[   0, 2931, 3616, 4669, 1878, 2885, 2506, 3370],\n",
       "       [2931,    0, 2379, 3373, 1097,  843, 1899,  630],\n",
       "       [3630, 2449,    0, 1206, 2595, 3149, 3771, 2157],\n",
       "       [4683, 3374, 1206,    0, 3602, 4078, 4811, 2927],\n",
       "       [1878, 1097, 2595, 3607,    0, 1052, 1372, 1380],\n",
       "       [2885,  843, 3081, 4078, 1052,    0, 1289, 1363],\n",
       "       [2506, 1899, 3772, 4799, 1373, 1289,    0, 2419],\n",
       "       [3271,  633, 2088, 2923, 1380, 1363, 2419,    0]])"
      ]
     },
     "execution_count": 15,
     "metadata": {},
     "output_type": "execute_result"
    }
   ],
   "source": [
    "# calculate the dist_matrix\n",
    "# distance unit: meter\n",
    "\n",
    "import gmaps\n",
    "\n",
    "\n",
    "gmaps = googlemaps.Client(key=password)\n",
    "\n",
    "dist_matrix = []\n",
    "\n",
    "for i in range(len(places)):\n",
    "    for j in range(len(places)):\n",
    "        x = (lat[i], lng[i])\n",
    "        y = (lat[j], lng[j])\n",
    "        directions_result = gmaps.directions(x,y,\n",
    "                                    mode=Mode,\n",
    "                                    avoid=\"ferries\",\n",
    "                                    )\n",
    "        dist_matrix.append(directions_result[0]['legs'][0]['distance']['value'])\n",
    "dist_matrix = np.reshape(dist_matrix, (len(places), len(places)))\n",
    "# dist_matrix.astype(int)\n",
    "dist_matrix"
   ]
  },
  {
   "cell_type": "code",
   "execution_count": 16,
   "metadata": {},
   "outputs": [
    {
     "data": {
      "text/plain": [
       "array([[   0, 2931, 3616, 4669, 1878, 2885, 2506, 3370],\n",
       "       [2931,    0, 2379, 3373, 1097,  843, 1899,  630],\n",
       "       [3616, 2379,    0, 1206, 2595, 3149, 3771, 2157],\n",
       "       [4669, 3373, 1206,    0, 3602, 4078, 4811, 2927],\n",
       "       [1878, 1097, 2595, 3602,    0, 1052, 1372, 1380],\n",
       "       [2885,  843, 3149, 4078, 1052,    0, 1289, 1363],\n",
       "       [2506, 1899, 3771, 4811, 1372, 1289,    0, 2419],\n",
       "       [3370,  630, 2157, 2927, 1380, 1363, 2419,    0]])"
      ]
     },
     "execution_count": 16,
     "metadata": {},
     "output_type": "execute_result"
    }
   ],
   "source": [
    "# convert the dist_matrix to a symmetrical matrix\n",
    "\n",
    "dist_matrix = np.asmatrix(dist_matrix)\n",
    "\n",
    "for i in range(0, len(places), 1):\n",
    "    for j in range(i+1, len(places), 1):\n",
    "        dist_matrix[j,i] = dist_matrix[i,j]\n",
    "dist_matrix = np.asarray(dist_matrix)\n",
    "dist_matrix"
   ]
  },
  {
   "cell_type": "code",
   "execution_count": 17,
   "metadata": {},
   "outputs": [
    {
     "name": "stdout",
     "output_type": "stream",
     "text": [
      "Total distance: 13761 meters\n",
      "Index:\n",
      " 0 -> 4 -> 6 -> 5 -> 1 -> 7 -> 3 -> 2 -> 0\n",
      "\n"
     ]
    }
   ],
   "source": [
    "# TSP Solver\n",
    "\n",
    "\"\"\"Simple travelling salesman problem between cities.\"\"\"\n",
    "\n",
    "from __future__ import print_function\n",
    "from ortools.constraint_solver import routing_enums_pb2\n",
    "from ortools.constraint_solver import pywrapcp\n",
    "import numpy as np\n",
    "\n",
    "\n",
    "\n",
    "def create_data_model():\n",
    "    \"\"\"Stores the data for the problem.\"\"\"\n",
    "    data = {}\n",
    "    data['distance_matrix'] = dist_matrix\n",
    "    data['city_names'] = places\n",
    "    data['num_vehicles'] = 1\n",
    "    data['depot'] = 0\n",
    "    return data\n",
    "\n",
    "\n",
    "def print_solution(manager, routing, assignment):\n",
    "    \"\"\"Prints assignment on console.\"\"\"\n",
    "    print('Total distance: {} meters'.format(assignment.ObjectiveValue()))\n",
    "    index = routing.Start(0)\n",
    "    plan_output = 'Index:\\n'\n",
    "    route_distance = 0\n",
    "    while not routing.IsEnd(index):\n",
    "        plan_output += ' {} ->'.format(manager.IndexToNode(index))\n",
    "        previous_index = index\n",
    "        index = assignment.Value(routing.NextVar(index))\n",
    "        route_distance += routing.GetArcCostForVehicle(previous_index, index, 0)\n",
    "    plan_output += ' {}\\n'.format(manager.IndexToNode(index))\n",
    "    print(plan_output)\n",
    "    plan_output += 'Route distance: {}miles\\n'.format(route_distance)\n",
    "    \n",
    "    \n",
    "def return_indexes(routing, assignment):\n",
    "    index = routing.Start(0)\n",
    "    indexes = []\n",
    "    while not routing.IsEnd(index):\n",
    "        previous_index = index\n",
    "        index = assignment.Value(routing.NextVar(index))\n",
    "        indexes = np.append(indexes, index)\n",
    "    return indexes\n",
    "    \n",
    "\n",
    "def main():\n",
    "    \"\"\"Entry point of the program.\"\"\"\n",
    "    # Instantiate the data problem.\n",
    "    data = create_data_model()\n",
    "\n",
    "    # Create the routing index manager.\n",
    "    manager = pywrapcp.RoutingIndexManager(\n",
    "        len(data['distance_matrix']), data['num_vehicles'], data['depot'])\n",
    "\n",
    "    # Create Routing Model.\n",
    "    routing = pywrapcp.RoutingModel(manager)\n",
    "\n",
    "\n",
    "    def distance_callback(from_index, to_index):\n",
    "        \"\"\"Returns the distance between the two nodes.\"\"\"\n",
    "        # Convert from routing variable Index to distance matrix NodeIndex.\n",
    "        from_node = manager.IndexToNode(from_index)\n",
    "        to_node = manager.IndexToNode(to_index)\n",
    "        return data['distance_matrix'][from_node][to_node]\n",
    "\n",
    "    transit_callback_index = routing.RegisterTransitCallback(distance_callback)\n",
    "\n",
    "    # Define cost of each arc.\n",
    "    routing.SetArcCostEvaluatorOfAllVehicles(transit_callback_index)\n",
    "\n",
    "    # Setting first solution heuristic.\n",
    "    search_parameters = pywrapcp.DefaultRoutingSearchParameters()\n",
    "    search_parameters.first_solution_strategy = (\n",
    "        routing_enums_pb2.FirstSolutionStrategy.PATH_CHEAPEST_ARC)\n",
    "\n",
    "    # Solve the problem.\n",
    "    assignment = routing.SolveWithParameters(search_parameters)\n",
    "\n",
    "    # Print solution on console.\n",
    "    if assignment:\n",
    "        print_solution(manager, routing, assignment)\n",
    "        indexes = return_indexes(routing, assignment)\n",
    "    return indexes\n",
    "\n",
    "\n",
    "if __name__ == '__main__':\n",
    "    Index = main()"
   ]
  },
  {
   "cell_type": "code",
   "execution_count": 18,
   "metadata": {},
   "outputs": [
    {
     "data": {
      "text/plain": [
       "(array([51.5205898, 51.508929 , 51.501364 , 51.5007292, 51.503324 ,\n",
       "        51.5031653, 51.5128019, 51.5138453, 51.5205898]),\n",
       " array([-0.1424225, -0.128299 , -0.14189  , -0.1246254, -0.119543 ,\n",
       "        -0.1123051, -0.0834833, -0.0983506, -0.1424225]))"
      ]
     },
     "execution_count": 18,
     "metadata": {},
     "output_type": "execute_result"
    }
   ],
   "source": [
    "# sorting the lat and lng according to the order of tour\n",
    "\n",
    "new_lat = [lat[0]]\n",
    "new_lng = [lng[0]]\n",
    "\n",
    "for i in range(len(places)-1):\n",
    "    index = Index[i].astype(int)\n",
    "    new_lat = np.append(new_lat, lat[index])\n",
    "    new_lng = np.append(new_lng, lng[index])\n",
    "new_lat = np.append(new_lat, lat[0])\n",
    "new_lng = np.append(new_lng, lng[0])\n",
    "# new_lat = new_lat.tolist()\n",
    "# new_lng = new_lng.tolist()\n",
    "new_lat, new_lng"
   ]
  },
  {
   "cell_type": "code",
   "execution_count": 19,
   "metadata": {},
   "outputs": [
    {
     "data": {
      "application/vnd.jupyter.widget-view+json": {
       "model_id": "27335da796db48a980ff9b225c244ce0",
       "version_major": 2,
       "version_minor": 0
      },
      "text/plain": [
       "Figure(layout=FigureLayout(height='420px'))"
      ]
     },
     "metadata": {},
     "output_type": "display_data"
    }
   ],
   "source": [
    "# draw lines and points (option)\n",
    "\n",
    "import gmaps\n",
    "\n",
    "\n",
    "gmaps.configure(api_key=password)\n",
    "\n",
    "# fix too many tool box\n",
    "fig = gmaps.figure(center=(np.mean(new_lat.astype(float)),np.mean(new_lng.astype(float))), zoom_level=12)\n",
    "\n",
    "\n",
    "fig.add_layer(gmaps.drawing_layer(features=[\n",
    "    gmaps.Marker((new_lat[i], new_lng[i]), label='%s' % (i+1)) for i in range(len(places))  \n",
    "]))\n",
    "\n",
    "fig.add_layer(gmaps.drawing_layer(features=[\n",
    "    gmaps.Line((new_lat[i], new_lng[i]), (new_lat[i+1], new_lng[i+1]), stroke_weight=3.0) for i in range(len(places))\n",
    "]))   \n",
    "fig"
   ]
  },
  {
   "cell_type": "code",
   "execution_count": 20,
   "metadata": {},
   "outputs": [
    {
     "data": {
      "application/vnd.jupyter.widget-view+json": {
       "model_id": "cf04d64cbc3542d4ad182f562b5b8059",
       "version_major": 2,
       "version_minor": 0
      },
      "text/plain": [
       "Figure(layout=FigureLayout(height='420px'))"
      ]
     },
     "metadata": {},
     "output_type": "display_data"
    }
   ],
   "source": [
    "# draw real route\n",
    "\n",
    "import gmaps\n",
    "\n",
    "\n",
    "gmaps.configure(api_key=password)\n",
    "\n",
    "fig = gmaps.figure(center=(np.mean(new_lat.astype(float)),np.mean(new_lng.astype(float))), zoom_level=12)\n",
    "\n",
    "# fix too many tool box\n",
    "fig.add_layer(gmaps.drawing_layer(features=[\n",
    "    gmaps.Marker((new_lat[i], new_lng[i]), label='%s' % (i+1)) for i in range(len(places))  \n",
    "]))\n",
    "\n",
    "for i in range(len(places)):\n",
    "    fig.add_layer(\n",
    "        gmaps.directions.Directions((new_lat[i], new_lng[i]), (new_lat[i+1], new_lng[i+1]),mode='WALKING',show_markers=False)\n",
    "    )\n",
    "\n",
    "fig"
   ]
  },
  {
   "cell_type": "code",
   "execution_count": 21,
   "metadata": {},
   "outputs": [
    {
     "name": "stdout",
     "output_type": "stream",
     "text": [
      "legend: \n",
      "\n",
      "1  =  YHA London Central Hostel\n",
      "2  =  Coca-Cola London Eye\n",
      "3  =  St. Paul's Cathedral\n",
      "4  =  Leadenhall Market\n",
      "5  =  The National Gallery\n",
      "6  =  Big Ben\n",
      "7  =  Buckingham Palace\n",
      "8  =  Waterloo Station\n"
     ]
    }
   ],
   "source": [
    "print('legend: \\n')\n",
    "for i in range(len(places)):\n",
    "    print(i+1, ' = ', places[i])"
   ]
  },
  {
   "cell_type": "code",
   "execution_count": null,
   "metadata": {},
   "outputs": [],
   "source": []
  }
 ],
 "metadata": {
  "kernelspec": {
   "display_name": "Python 3",
   "language": "python",
   "name": "python3"
  },
  "language_info": {
   "codemirror_mode": {
    "name": "ipython",
    "version": 3
   },
   "file_extension": ".py",
   "mimetype": "text/x-python",
   "name": "python",
   "nbconvert_exporter": "python",
   "pygments_lexer": "ipython3",
   "version": "3.7.3"
  }
 },
 "nbformat": 4,
 "nbformat_minor": 2
}
